{
  "nbformat": 4,
  "nbformat_minor": 0,
  "metadata": {
    "colab": {
      "provenance": [],
      "authorship_tag": "ABX9TyO47M5FfgqeiVLMdxNXalrI",
      "include_colab_link": true
    },
    "kernelspec": {
      "name": "python3",
      "display_name": "Python 3"
    },
    "language_info": {
      "name": "python"
    }
  },
  "cells": [
    {
      "cell_type": "markdown",
      "metadata": {
        "id": "view-in-github",
        "colab_type": "text"
      },
      "source": [
        "<a href=\"https://colab.research.google.com/github/sosuke-p/kadai_007-pandas-/blob/main/kadai_007.ipynb\" target=\"_parent\"><img src=\"https://colab.research.google.com/assets/colab-badge.svg\" alt=\"Open In Colab\"/></a>"
      ]
    },
    {
      "cell_type": "code",
      "execution_count": 1,
      "metadata": {
        "colab": {
          "base_uri": "https://localhost:8080/",
          "height": 148
        },
        "id": "lw_2asWdxSwD",
        "outputId": "8803c3ed-c51b-4c6d-9006-b5cbf67122f4"
      },
      "outputs": [
        {
          "output_type": "error",
          "ename": "SyntaxError",
          "evalue": "ignored",
          "traceback": [
            "\u001b[0;36m  File \u001b[0;32m\"<ipython-input-1-6f510dc50863>\"\u001b[0;36m, line \u001b[0;32m55\u001b[0m\n\u001b[0;31m    pip install japanize-matplotlib\u001b[0m\n\u001b[0m        ^\u001b[0m\n\u001b[0;31mSyntaxError\u001b[0m\u001b[0;31m:\u001b[0m invalid syntax\n"
          ]
        }
      ],
      "source": [
        "import pandas as pd\n",
        "\n",
        "# csvファイルの読み込み\n",
        "df = pd.read_csv(\"sample_pandas_6.csv\")\n",
        "\n",
        "# 先頭から5行まで表示\n",
        "df.head()\n",
        "\n",
        "# 「Z4WOOIYV」という商品番号の行のみ取得\n",
        "df.query('商品番号 == \"Z4WOOIYV\"')\n",
        "\n",
        "# 600円の行のみを抽出\n",
        "df.query('単価 == 600')\n",
        "\n",
        "# 在庫が5以下の行を抽出\n",
        "df.query('在庫 <= 5')\n",
        "\n",
        "# 「8T7D5DQA」という商品番号の商品の在庫5以下である行を抽出\n",
        "df.query('商品番号 == \"8T7D5DQA\" and 在庫 <= 5')\n",
        "\n",
        "# 単価に消費税10%をかけた値に加工\n",
        "def tax(x):\n",
        "    return x * 1.10\n",
        "\n",
        "df['単価'].apply(tax)\n",
        "\n",
        "# 文字列データをdatetime型に変換\n",
        "#  現在の文字型を確認する。\n",
        "type(df['発注日'].loc[0])\n",
        "\n",
        "#  文字列として返されている状態では抽出や集計などの処理がしづらいため、日付を扱う「datetime型」に変換\n",
        "df['発注日'] = pd.to_datetime(df['発注日'])\n",
        "type(pd.to_datetime(df['発注日']).loc[0])\n",
        "\n",
        "# 日付の最新と最も古い情報を取り出す\n",
        "df.agg({'発注日':['max', 'min']})\n",
        "\n",
        "# 加工したデータを新たな列として挿入\n",
        "tax_series = df['単価'].apply(tax)\n",
        "tax_series.name = \"単価（税込み）\"\n",
        "pd.concat([df, tax_series], axis=1)\n",
        "\n",
        "# データをマージ\n",
        "category_df = pd.read_csv('category.csv')\n",
        "category_df\n",
        "\n",
        "df = pd.merge(df, category_df[['商品番号', 'カテゴリー']], how='inner', on='商品番号')\n",
        "df\n",
        "\n",
        "# ―――――課題「kadai_007」―――――――――――――――\n",
        "# step1　必要なライブラリをインポートする\n",
        "import pandas as pd\n",
        "import numpy as np\n",
        "import matplotlib.pyplot as plt\n",
        "pip install japanize-matplotlib\n",
        "import japanize_matplotlib\n",
        "\n",
        "# step2　カテゴリー列の要素の出現頻度のカウントと、実行結果を棒グラフ化\n",
        "# 出現頻度のカウント\n",
        "df['カテゴリー'].value_counts()\n",
        "\n",
        "# 棒グラフの作成\n",
        "plot(kind = 'bar')\n",
        "\n",
        "# step3 グラフを表示させる\n",
        "plt.show()\n",
        "\n",
        "# stpe4\n",
        "# ①基準列(商品番号列)ごとに要素をグループにまとめサブ列を集計するメソッドの作成\n",
        "# ②基本統計量を算出するメソッドを組み合わせたコードの作成\n",
        "\n",
        "# ①\n",
        "df.groupby('商品番号列')['サブ列'].集計関数()\n",
        "\n",
        "# ②\n",
        "df.groupby('商品番号列')['サブ列'].describe()\n",
        "\n",
        "\n"
      ]
    }
  ]
}